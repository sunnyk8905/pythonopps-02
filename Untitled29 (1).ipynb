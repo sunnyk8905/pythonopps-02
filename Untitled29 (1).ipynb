{
 "cells": [
  {
   "cell_type": "code",
   "execution_count": null,
   "id": "4ad115dc-917f-40cf-b1a1-b791128f86df",
   "metadata": {},
   "outputs": [],
   "source": [
    "Q1. What is Abstraction in OOps? Explain with an example."
   ]
  },
  {
   "cell_type": "code",
   "execution_count": null,
   "id": "f75ce535-9784-47bb-a37c-92399a8293f5",
   "metadata": {},
   "outputs": [],
   "source": [
    "In OOP, abstraction allows you to focus on the essential characteristics and behaviors of an object while hiding the unnecessary details. It emphasizes what an object does rather than how it does it. The abstraction process involves identifying the relevant attributes and methods that make up the core functionality of an object and omitting or hiding the implementation details that are not relevant to the external world"
   ]
  },
  {
   "cell_type": "code",
   "execution_count": 1,
   "id": "0bb9a3d8-2d4f-419f-a2b4-730eba1ee33f",
   "metadata": {},
   "outputs": [
    {
     "name": "stdout",
     "output_type": "stream",
     "text": [
      "Dog barks.\n",
      "Cat meows.\n"
     ]
    }
   ],
   "source": [
    "from abc import ABC, abstractmethod\n",
    "\n",
    "class Animal(ABC):\n",
    "    @abstractmethod\n",
    "    def sound(self):\n",
    "        pass\n",
    "\n",
    "class Dog(Animal):\n",
    "    def sound(self):\n",
    "        print(\"Dog barks.\")\n",
    "\n",
    "class Cat(Animal):\n",
    "    def sound(self):\n",
    "        print(\"Cat meows.\")\n",
    "\n",
    "# Creating objects of concrete classes\n",
    "dog = Dog()\n",
    "dog.sound()  # Output: Dog barks.\n",
    "\n",
    "cat = Cat()\n",
    "cat.sound()  # Output: Cat meows.\n"
   ]
  },
  {
   "cell_type": "code",
   "execution_count": null,
   "id": "f362f357-e43a-4377-855b-c6498d0f84e3",
   "metadata": {},
   "outputs": [],
   "source": [
    "Q2. Differentiate between Abstraction and Encapsulation. Explain with an example."
   ]
  },
  {
   "cell_type": "code",
   "execution_count": null,
   "id": "d4770019-aaba-462c-b33e-da91c272d05a",
   "metadata": {},
   "outputs": [],
   "source": [
    "Abstraction is the process of representing complex real-world entities as simplified models within the program"
   ]
  },
  {
   "cell_type": "code",
   "execution_count": null,
   "id": "b90b6720-2534-4e73-b40e-a3f8c6962702",
   "metadata": {},
   "outputs": [],
   "source": [
    "Encapsulation is the bundling of data and methods within a single unit, typically a class."
   ]
  },
  {
   "cell_type": "code",
   "execution_count": 2,
   "id": "e7201c93-a2e8-46b8-a5b0-970a5cd92414",
   "metadata": {},
   "outputs": [
    {
     "name": "stdout",
     "output_type": "stream",
     "text": [
      "1000\n",
      "1500\n",
      "1300\n",
      "5000\n"
     ]
    }
   ],
   "source": [
    "class BankAccount:\n",
    "    def __init__(self, account_number, balance):\n",
    "        self.account_number = account_number\n",
    "        self.balance = balance\n",
    "\n",
    "    def deposit(self, amount):\n",
    "        self.balance += amount\n",
    "\n",
    "    def withdraw(self, amount):\n",
    "        if amount <= self.balance:\n",
    "            self.balance -= amount\n",
    "        else:\n",
    "            print(\"Insufficient balance.\")\n",
    "\n",
    "    def get_balance(self):\n",
    "        return self.balance\n",
    "\n",
    "\n",
    "# Abstraction:\n",
    "# The BankAccount class represents the abstraction of a bank account.\n",
    "# It simplifies the concept of a bank account by providing essential methods for depositing, withdrawing, and getting the balance.\n",
    "# It hides the internal details of how these operations are implemented.\n",
    "\n",
    "# Encapsulation:\n",
    "# The BankAccount class encapsulates the account_number and balance attributes by making them private.\n",
    "# They can only be accessed and modified through the methods provided by the class (encapsulated behavior).\n",
    "\n",
    "account = BankAccount(\"123456789\", 1000)\n",
    "print(account.get_balance())  # Output: 1000\n",
    "\n",
    "account.deposit(500)\n",
    "print(account.get_balance())  # Output: 1500\n",
    "\n",
    "account.withdraw(200)\n",
    "print(account.get_balance())  # Output: 1300\n",
    "\n",
    "account.balance = 5000  # Direct access to the attribute is prevented due to encapsulation\n",
    "print(account.get_balance())  # Output: 1300 (balance remains unchanged)\n",
    "\n",
    "account.withdraw(2000)  # Output: Insufficient balance.\n"
   ]
  },
  {
   "cell_type": "code",
   "execution_count": null,
   "id": "68967563-9cfb-45b9-b3b2-79daf0f81a1d",
   "metadata": {},
   "outputs": [],
   "source": [
    "Q3. What is abc module in python? Why is it used?"
   ]
  },
  {
   "cell_type": "code",
   "execution_count": null,
   "id": "9676d38a-8e94-484c-a8bd-d430dafcda3e",
   "metadata": {},
   "outputs": [],
   "source": [
    "The abc module is used to define abstract base classes and enforce certain rules or contracts that derived classes must follow. It provides the ABC class and the abstractmethod decorator, which are used to create abstract methods and abstract classes.\n",
    "\n",
    "The main purposes of the abc module are:\n",
    "\n",
    "Defining Abstract Base Classes: The ABC class from the abc module is used as a base class for defining abstract base classes. By inheriting from ABC, a class becomes an abstract base class, and its methods can be marked as abstract using the abstractmethod decorator.`"
   ]
  },
  {
   "cell_type": "code",
   "execution_count": null,
   "id": "e1e78457-2a1f-4d88-90ba-615caf615b79",
   "metadata": {},
   "outputs": [],
   "source": [
    "Q4. How can we achieve data abstraction?"
   ]
  },
  {
   "cell_type": "code",
   "execution_count": null,
   "id": "11946dc7-ee6b-4826-9098-99303d416c71",
   "metadata": {},
   "outputs": [],
   "source": [
    "Identify the essential attributes and behaviors of the object: Determine the core characteristics and functionalities that define the object's purpose.\n",
    "\n",
    "Create an abstract class or interface: Define an abstract class or interface that represents the abstraction of the object. This class/interface should declare the essential methods and properties without specifying their implementation details."
   ]
  },
  {
   "cell_type": "code",
   "execution_count": null,
   "id": "e7d7ac78-b249-46b0-a0eb-109393ac0922",
   "metadata": {},
   "outputs": [],
   "source": [
    "Q5. Can we create an instance of an abstract class? Explain your answer."
   ]
  },
  {
   "cell_type": "code",
   "execution_count": null,
   "id": "cdb31f2a-5ae8-45ff-bdb5-7d868fc8344d",
   "metadata": {},
   "outputs": [],
   "source": [
    "No, we cannot create an instance of an abstract class in Python. An abstract class is designed to serve as a blueprint or template for derived classes, but it cannot be instantiated directly.\n",
    "\n",
    "In Python, abstract classes are created using the abc module, specifically by inheriting from the ABC class and using the abstractmethod decorator to declare abstract methods. An abstract method is a method that has no implementation in the abstract class and must be implemented by any concrete subclass."
   ]
  }
 ],
 "metadata": {
  "kernelspec": {
   "display_name": "Python 3 (ipykernel)",
   "language": "python",
   "name": "python3"
  },
  "language_info": {
   "codemirror_mode": {
    "name": "ipython",
    "version": 3
   },
   "file_extension": ".py",
   "mimetype": "text/x-python",
   "name": "python",
   "nbconvert_exporter": "python",
   "pygments_lexer": "ipython3",
   "version": "3.10.8"
  }
 },
 "nbformat": 4,
 "nbformat_minor": 5
}
